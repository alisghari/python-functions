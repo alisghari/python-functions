{
  "nbformat": 4,
  "nbformat_minor": 0,
  "metadata": {
    "colab": {
      "name": "Untitled3.ipynb",
      "provenance": [],
      "collapsed_sections": []
    },
    "kernelspec": {
      "name": "python3",
      "display_name": "Python 3"
    },
    "language_info": {
      "name": "python"
    }
  },
  "cells": [
    {
      "cell_type": "code",
      "metadata": {
        "colab": {
          "base_uri": "https://localhost:8080/"
        },
        "id": "L-RisRP3AW0N",
        "outputId": "cd5ad87b-cbbe-4acd-a241-ae8d28b77323"
      },
      "source": [
        "def max():\n",
        "  a=int(input(\"a=\"))\n",
        "  b=int(input(\"b=\"))\n",
        "  c=int(input(\"c=\"))\n",
        "  max=a\n",
        "  if b>a:\n",
        "    max=b\n",
        "  elif c>max:\n",
        "    max=c\n",
        "  return ('the max of these three numbers',max)\n",
        "max()"
      ],
      "execution_count": null,
      "outputs": [
        {
          "name": "stdout",
          "output_type": "stream",
          "text": [
            "a=12\n",
            "b=35\n",
            "c=19\n"
          ]
        },
        {
          "output_type": "execute_result",
          "data": {
            "text/plain": [
              "('the max of these three numbers', 35)"
            ]
          },
          "metadata": {},
          "execution_count": 6
        }
      ]
    },
    {
      "cell_type": "code",
      "metadata": {
        "colab": {
          "base_uri": "https://localhost:8080/"
        },
        "id": "PbXp2IwiIMzA",
        "outputId": "17a4fc73-1b67-464a-b23d-43949440bf01"
      },
      "source": [
        "def calculation(a,b):\n",
        "  s=a+b\n",
        "  su=a-b\n",
        "  return (s,su)\n",
        "calculation(40,10)\n"
      ],
      "execution_count": null,
      "outputs": [
        {
          "output_type": "execute_result",
          "data": {
            "text/plain": [
              "(50, 30)"
            ]
          },
          "metadata": {},
          "execution_count": 2
        }
      ]
    },
    {
      "cell_type": "code",
      "metadata": {
        "id": "oZ7ZuwBiJD4R"
      },
      "source": [
        "def som(ls):\n",
        "  i=0\n",
        "  s=0\n",
        "  for i in range(len(ls)):\n",
        "    s=s+ls[i]\n",
        "  return s"
      ],
      "execution_count": 14,
      "outputs": []
    },
    {
      "cell_type": "code",
      "metadata": {
        "id": "Po3Y4UNKJFO6"
      },
      "source": [
        "def mul(ls):\n",
        "  i=0\n",
        "  m=1\n",
        "  for i in range(len(ls)):\n",
        "    a=ls[i]\n",
        "    m=m*a\n",
        "  return m"
      ],
      "execution_count": 15,
      "outputs": []
    },
    {
      "cell_type": "code",
      "metadata": {
        "colab": {
          "base_uri": "https://localhost:8080/"
        },
        "id": "6gyRYSJfeWbL",
        "outputId": "5b232443-9294-415b-fdc6-62e95b0d8486"
      },
      "source": [
        "\n",
        "print(\"\\n\")\n",
        "ls = list(int(num) \n",
        "for num in input(\"Enter the list items separated by space \").strip().split())\n",
        "lp=[]\n",
        "li=[]\n",
        "for i in range (len(ls)):\n",
        "  if i%2==0:\n",
        "    lp.append(ls[i])\n",
        "  else:\n",
        "    li.append(ls[i])\n",
        "print(ls)\n",
        "print(som(lp))\n",
        "print(mul(li))\n",
        "   \n",
        "\n"
      ],
      "execution_count": 16,
      "outputs": [
        {
          "output_type": "stream",
          "name": "stdout",
          "text": [
            "\n",
            "\n",
            "Enter the list items separated by space 1 2 3 4 5 6 7 8 9 \n",
            "[1, 2, 3, 4, 5, 6, 7, 8, 9]\n",
            "25\n",
            "384\n"
          ]
        }
      ]
    },
    {
      "cell_type": "code",
      "metadata": {
        "id": "GXBmTqBNuMIn",
        "colab": {
          "base_uri": "https://localhost:8080/"
        },
        "outputId": "fca01b96-4418-4d70-d6c4-17ceb17ba7d6"
      },
      "source": [
        "def input_1():\n",
        "  print(\"\\n\") \n",
        "  ch=input(\"Enter the list items separated by hyphen \").strip(\"-\").split(\"-\")\n",
        "  print(ch)\n",
        "  return ch\n",
        "def sort_01(ch):\n",
        "  ch.sort()\n",
        "  print(ch)\n",
        "  \n",
        "a=input_1()\n",
        "sort_01(a)\n"
      ],
      "execution_count": 19,
      "outputs": [
        {
          "output_type": "stream",
          "name": "stdout",
          "text": [
            "\n",
            "\n",
            "Enter the list items separated by hyphen green-red-yellow-black-white\n",
            "['green', 'red', 'yellow', 'black', 'white']\n",
            "['black', 'green', 'red', 'white', 'yellow']\n"
          ]
        }
      ]
    },
    {
      "cell_type": "code",
      "metadata": {
        "colab": {
          "base_uri": "https://localhost:8080/"
        },
        "id": "nHQcuvDGmqYK",
        "outputId": "b11fb1e0-0af1-4a2f-ebcd-5776a292d1a7"
      },
      "source": [
        "import math\n",
        "C=50\n",
        "H=30\n",
        "def input_02():\n",
        "  ch=input(\"Enter the list items separated by comma \").strip(\",\").split(\",\")\n",
        "  print(ch)\n",
        "  return ch\n",
        "def calc(ch):\n",
        "  for i in range (0,len(ch)):\n",
        "    D=int (ch[i])\n",
        "    t=(2 * C * D)\n",
        "    Q=math.sqrt(t/H)\n",
        "    print(round(Q))\n",
        "a=input_02()\n",
        "calc(a)\n"
      ],
      "execution_count": 35,
      "outputs": [
        {
          "output_type": "stream",
          "name": "stdout",
          "text": [
            "Enter the list items separated by comma 100,150,180\n",
            "['100', '150', '180']\n",
            "18\n",
            "22\n",
            "24\n"
          ]
        }
      ]
    }
  ]
}